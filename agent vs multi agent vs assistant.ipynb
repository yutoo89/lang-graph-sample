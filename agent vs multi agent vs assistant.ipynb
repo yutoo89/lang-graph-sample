{
 "cells": [
  {
   "cell_type": "markdown",
   "id": "a18ec6e4-83b1-44e0-ba07-ee538fdc1948",
   "metadata": {},
   "source": [
    "# 目的\n",
    "\n",
    "single agent, multi agent, openai assistantで同じタスクを実行してアウトプットの違いを比較したい。\n",
    "\n",
    "- 複雑なタスクのほうが違いが出やすいと思われる。singleではプロンプトが膨らんでいき、ノイズが多いと応答の質も悪くなりそう。\n",
    "- multi agentでもstateをすべて共有するか、結果だけ共有するかで結果が変わる。今回は後者の検証。\n",
    "- assistantsはsingle agentと近い設計だが、FWをかますことでプロンプトに違いが出そう。そもそもassistant専用のAPIを叩いているのでchatと別物。\n",
    "\n",
    "どんなタスクを検証するか。\n",
    "- toolを使う前提で、かつtool(関数)の結果が大きい\n",
    "- あとは単純だがステップ数が多いタスクで、伝言ゲームみたいに途中でデータが変わったり、目的を見失ったりしないか\n",
    "\n",
    "方針\n",
    "- まずそれぞれミニマムで組む\n",
    "- tool呼び出しは共通のモックデータを返す\n",
    "\n",
    "関数定義\n",
    "- 店舗取得: 店舗IDを渡すと店舗情報（id, 店舗名, 都道府県, 会社id）を返す\n",
    "- 会社取得: 会社IDを渡すと会社情報（id, 会社名, 店舗数）を返す\n",
    "- 口コミ取得: 店舗IDを渡すと口コミ（店舗id, comment, review_name）一覧500件を返す\n",
    "- 売り上げ取得: 店舗IDを渡すと店舗売り上げ（店舗id, 日付, 売り上げ）を直近365日分返す"
   ]
  },
  {
   "cell_type": "markdown",
   "id": "4ec8734b-fe26-42d6-b58b-ecccd5dfbe12",
   "metadata": {},
   "source": [
    "## 関数定義"
   ]
  },
  {
   "cell_type": "code",
   "execution_count": 10,
   "id": "ec346118-dad8-4ba8-94be-fccd7dc7d7c3",
   "metadata": {},
   "outputs": [],
   "source": [
    "import random\n",
    "from datetime import datetime, timedelta\n",
    "from typing import List, Dict, Any\n",
    "\n",
    "# 店舗評価取得\n",
    "# 店舗IDごとの評価（1~5点）を100店舗分返す\n",
    "def get_company_ratings() -> List[Dict[str, Any]]:\n",
    "    return [{\"company_id\": i, \"rating\": 5 if i == 1 else ((i % 3) + 1)} for i in range(1, 101)]\n",
    "\n",
    "# 店舗取得\n",
    "# 会社IDを指定すると、会社が経営している全店舗情報を返す（店舗ID, 店舗名, 都道府県, 会社ID）\n",
    "def get_stores(company_id: int) -> Dict[str, Any]:\n",
    "    return [\n",
    "        {\"store_id\": 1, \"name\": \"ラーメン一番\", \"prefecture\": \"東京都\", \"company_id\": 1},\n",
    "        {\"store_id\": 2, \"name\": \"寿司太郎\", \"prefecture\": \"大阪府\", \"company_id\": 1},\n",
    "        {\"store_id\": 3, \"name\": \"焼肉キング\", \"prefecture\": \"福岡県\", \"company_id\": 1},\n",
    "    ]\n",
    "    return store_data.get(store_id, {})\n",
    "\n",
    "# 会社取得\n",
    "# 会社IDを指定すると、会社情報（会社ID, 会社名, 店舗数）を返す\n",
    "\n",
    "def get_company_info(company_id: int) -> Dict[str, Any]:\n",
    "    if company_id == 1:\n",
    "        return {\"company_id\": 1, \"name\": \"グルメフーズ株式会社\", \"store_count\": 3}\n",
    "    return {}\n",
    "\n",
    "# 口コミ取得\n",
    "# 店舗IDを指定すると、その店舗の口コミ一覧を返す（500件）\n",
    "def get_store_reviews(store_id: int) -> List[Dict[str, Any]]:\n",
    "    if store_id == 1:\n",
    "        comments = [\n",
    "            \"接客態度が悪かった\", \"店員の対応が冷たい\", \"サービスが悪い\", \"注文を間違えられた\", \"待ち時間が長すぎる\",\n",
    "            \"愛想がなかった\", \"清潔感がない\", \"店内がうるさい\", \"価格が高い割にサービスが悪い\", \"二度と行きたくない\"\n",
    "        ]\n",
    "        return [{\"store_id\": store_id, \"comment\": random.choice(comments), \"review_name\": f\"user_{i}\"} for i in range(1, 251)]\n",
    "    \n",
    "    if store_id == 2:\n",
    "        comments = [\n",
    "            \"料理がとても美味しかった\", \"味が絶品だった\", \"また来たいと思った\", \"食材が新鮮だった\", \"コスパが良かった\",\n",
    "            \"雰囲気が最高だった\", \"シェフの腕が素晴らしい\", \"デザートまで完璧だった\", \"量もちょうど良い\", \"家族で楽しめた\"\n",
    "        ]\n",
    "        return [{\"store_id\": store_id, \"comment\": random.choice(comments), \"review_name\": f\"user_{i}\"} for i in range(1, 251)]\n",
    "    \n",
    "    return []\n",
    "\n",
    "# 売り上げ取得\n",
    "# 店舗IDを指定すると、直近365日分の売り上げデータを返す\n",
    "\n",
    "def get_store_sales(store_id: int) -> List[Dict[str, Any]]:\n",
    "    start_date = datetime.today() - timedelta(days=365)\n",
    "    sales_data = []\n",
    "    for i in range(365):\n",
    "        date = start_date + timedelta(days=i)\n",
    "        if store_id == 1:\n",
    "            sales = max(1000 - (i * 2), 100)  # 売上が急激に下がる\n",
    "        elif store_id == 2:\n",
    "            sales = min(100 + (i * 3), 5000)  # 売上が急激に上がる\n",
    "        elif store_id == 3:\n",
    "            sales = 2000  # 売上は一定\n",
    "        else:\n",
    "            return []\n",
    "        sales_data.append({\"store_id\": store_id, \"date\": date.strftime('%Y-%m-%d'), \"sales\": sales})\n",
    "    return sales_data"
   ]
  },
  {
   "cell_type": "markdown",
   "id": "3e95233c-56c8-4103-ab47-eeab069a08ec",
   "metadata": {},
   "source": [
    "## single agent"
   ]
  },
  {
   "cell_type": "code",
   "execution_count": 39,
   "id": "577f49a8-a3bb-43ef-9d1f-94dd54cc8b15",
   "metadata": {},
   "outputs": [],
   "source": [
    "import uuid\n",
    "import json\n",
    "from typing import Annotated, Literal, List, Optional\n",
    "from langchain_openai import ChatOpenAI\n",
    "from langchain_core.tools import tool\n",
    "from langgraph.checkpoint.memory import MemorySaver\n",
    "from langgraph.graph import StateGraph, START, END\n",
    "from langgraph.graph.message import add_messages\n",
    "from langgraph.prebuilt import ToolNode, tools_condition\n",
    "from langgraph.types import Command\n",
    "from typing_extensions import TypedDict\n",
    "from IPython.display import Image, display\n",
    "from datetime import datetime, timedelta\n",
    "import random\n",
    "\n",
    "@tool\n",
    "def get_company_ratings() -> List[Dict[str, Any]]:\n",
    "    \"\"\"\n",
    "    Retrieve company ratings for 100 companies.\n",
    "\n",
    "    Returns:\n",
    "        List[Dict[str, Any]]: A list of company ratings with company_id and rating.\n",
    "    \"\"\"\n",
    "    print(\"Function: get_company_ratings, Args: None\")\n",
    "    return [{\"company_id\": i, \"rating\": 5 if i == 1 else ((i % 3) + 1)} for i in range(1, 101)]\n",
    "\n",
    "@tool\n",
    "def get_stores(company_id: int) -> List[Dict[str, Any]]:\n",
    "    \"\"\"\n",
    "    Fetch all stores operated by a specific company.\n",
    "\n",
    "    Args:\n",
    "        company_id (int): The ID of the company.\n",
    "\n",
    "    Returns:\n",
    "        List[Dict[str, Any]]: A list of store details.\n",
    "    \"\"\"\n",
    "    print(f\"Function: get_stores, Args: company_id={company_id}\")\n",
    "    return [\n",
    "        {\"store_id\": 1, \"name\": \"ラーメン一番\", \"prefecture\": \"東京都\", \"company_id\": 1},\n",
    "        {\"store_id\": 2, \"name\": \"寿司太郎\", \"prefecture\": \"大阪府\", \"company_id\": 1},\n",
    "        {\"store_id\": 3, \"name\": \"焼肉キング\", \"prefecture\": \"福岡県\", \"company_id\": 1},\n",
    "    ]\n",
    "\n",
    "@tool\n",
    "def get_company_info(company_id: int) -> Dict[str, Any]:\n",
    "    \"\"\"\n",
    "    Retrieve company details based on company ID.\n",
    "\n",
    "    Args:\n",
    "        company_id (int): The ID of the company.\n",
    "\n",
    "    Returns:\n",
    "        Dict[str, Any]: Company information.\n",
    "    \"\"\"\n",
    "    print(f\"Function: get_company_info, Args: company_id={company_id}\")\n",
    "    if company_id == 1:\n",
    "        return {\"company_id\": 1, \"name\": \"グルメフーズ株式会社\", \"store_count\": 3}\n",
    "    return {}\n",
    "\n",
    "@tool\n",
    "def get_store_reviews(store_id: int) -> List[Dict[str, Any]]:\n",
    "    \"\"\"\n",
    "    Fetch customer reviews for a specific store.\n",
    "\n",
    "    Args:\n",
    "        store_id (int): The store ID.\n",
    "\n",
    "    Returns:\n",
    "        List[Dict[str, Any]]: A list of reviews.\n",
    "    \"\"\"\n",
    "    print(f\"Function: get_store_reviews, Args: store_id={store_id}\")\n",
    "    comments = {\n",
    "        1: [\n",
    "            \"接客態度が悪かった\", \"店員の対応が冷たい\", \"サービスが悪い\", \"注文を間違えられた\", \"待ち時間が長すぎる\",\n",
    "            \"愛想がなかった\", \"清潔感がない\", \"店内がうるさい\", \"価格が高い割にサービスが悪い\", \"二度と行きたくない\"\n",
    "        ],\n",
    "        2: [\n",
    "            \"料理がとても美味しかった\", \"味が絶品だった\", \"また来たいと思った\", \"食材が新鮮だった\", \"コスパが良かった\",\n",
    "            \"雰囲気が最高だった\", \"シェフの腕が素晴らしい\", \"デザートまで完璧だった\", \"量もちょうど良い\", \"家族で楽しめた\"\n",
    "        ]\n",
    "    }\n",
    "    \n",
    "    return [{\"store_id\": store_id, \"comment\": random.choice(comments.get(store_id, [\"レビューなし\"])), \"review_name\": f\"user_{i}\"} for i in range(1, 251)]\n",
    "\n",
    "@tool\n",
    "def get_store_sales(store_id: int) -> List[Dict[str, Any]]:\n",
    "    \"\"\"\n",
    "    Retrieve sales data for the past 365 days for a specific store.\n",
    "\n",
    "    Args:\n",
    "        store_id (int): The store ID.\n",
    "\n",
    "    Returns:\n",
    "        List[Dict[str, Any]]: A list of daily sales data.\n",
    "    \"\"\"\n",
    "    print(f\"Function: get_store_sales, Args: store_id={store_id}\")\n",
    "    start_date = datetime.today() - timedelta(days=365)\n",
    "    sales_data = []\n",
    "    for i in range(365):\n",
    "        date = start_date + timedelta(days=i)\n",
    "        if store_id == 1:\n",
    "            sales = max(1000 - (i * 2), 100)\n",
    "        elif store_id == 2:\n",
    "            sales = min(100 + (i * 3), 5000)\n",
    "        elif store_id == 3:\n",
    "            sales = 2000\n",
    "        else:\n",
    "            return []\n",
    "        sales_data.append({\"store_id\": store_id, \"date\": date.strftime('%Y-%m-%d'), \"sales\": sales})\n",
    "    return sales_data"
   ]
  },
  {
   "cell_type": "code",
   "execution_count": 40,
   "id": "555f4ed5-990c-4773-b435-e6f7cbd5eb82",
   "metadata": {},
   "outputs": [],
   "source": [
    "class SingleAgent:\n",
    "    def __init__(self, model_name: str):\n",
    "        \"\"\"\n",
    "        Initialize SingleAgent with the given model name.\n",
    "        \"\"\"\n",
    "        self.model_name = model_name\n",
    "        self.llm = ChatOpenAI(model=model_name, temperature=0)\n",
    "        \n",
    "        # Define tools\n",
    "        self.tools = [get_company_ratings, get_stores, get_company_info, get_store_reviews, get_store_sales]\n",
    "        self.llm_with_tools = self.llm.bind_tools(self.tools)\n",
    "        \n",
    "        # Define graph\n",
    "        self.graph_builder = StateGraph(State)\n",
    "        self.graph_builder.add_node(\"chatbot\", self.chatbot)\n",
    "        tool_node = ToolNode(tools=self.tools)\n",
    "        self.graph_builder.add_node(\"tools\", tool_node)\n",
    "        self.graph_builder.add_conditional_edges(\"chatbot\", tools_condition)\n",
    "        self.graph_builder.add_edge(\"tools\", \"chatbot\")\n",
    "        self.graph_builder.add_edge(START, \"chatbot\")\n",
    "        \n",
    "        # Compile graph\n",
    "        self.thread_id = uuid.uuid4()\n",
    "        self.memory = MemorySaver()\n",
    "        self.graph = self.graph_builder.compile(checkpointer=self.memory)\n",
    "    \n",
    "    def chatbot(self, state: State):\n",
    "        \"\"\"\n",
    "        Process chatbot response.\n",
    "        \"\"\"\n",
    "        message = self.llm_with_tools.invoke(state[\"messages\"])\n",
    "        return {\"messages\": [message]}\n",
    "    \n",
    "    def run(self, command: str) -> str:\n",
    "        \"\"\"\n",
    "        Execute the chatbot and return the response as a string.\n",
    "        \"\"\"\n",
    "        config = {\"configurable\": {\"thread_id\": self.thread_id}}\n",
    "            \n",
    "        result = self.graph.invoke(\n",
    "            {\"messages\": [{\"role\": \"user\", \"content\": command}]},\n",
    "            config,\n",
    "            stream_mode=\"values\",\n",
    "        )\n",
    "        return result['messages'][-1].content"
   ]
  },
  {
   "cell_type": "code",
   "execution_count": 38,
   "id": "19c0418e-df12-4c8a-ad8b-fdfb7e079800",
   "metadata": {},
   "outputs": [
    {
     "data": {
      "text/plain": [
       "'こんにちは！私はさまざまな情報を提供するための機能を持っています。具体的には、以下のことができます：\\n\\n1. **企業の評価を取得**: 100社の企業の評価を取得できます。\\n2. **企業の店舗情報を取得**: 特定の企業が運営する店舗の詳細を取得できます。\\n3. **企業情報を取得**: 企業IDに基づいて企業の詳細情報を取得できます。\\n4. **店舗の顧客レビューを取得**: 特定の店舗に対する顧客のレビューを取得できます。\\n5. **店舗の売上データを取得**: 特定の店舗の過去365日間の売上データを取得できます。\\n\\n何か特定の情報が必要でしたら、お知らせください！'"
      ]
     },
     "execution_count": 38,
     "metadata": {},
     "output_type": "execute_result"
    }
   ],
   "source": [
    "single_agent = SingleAgent(\"gpt-4o-mini\")\n",
    "result = single_agent.run(\"こんにちは、あなたの機能を教えてください。\")\n",
    "print"
   ]
  },
  {
   "cell_type": "code",
   "execution_count": 36,
   "id": "f2717b28-6cb0-4c5f-866b-4516eae463e6",
   "metadata": {},
   "outputs": [
    {
     "data": {
      "text/plain": [
       "'こんにちは！私はさまざまな情報を提供するための機能を持っています。具体的には、以下のことができます：\\n\\n1. **企業の評価を取得**: 100社の企業の評価を取得できます。\\n2. **企業の店舗情報を取得**: 特定の企業が運営する店舗の詳細を取得できます。\\n3. **企業情報を取得**: 企業IDに基づいて企業の詳細情報を取得できます。\\n4. **店舗の顧客レビューを取得**: 特定の店舗に対する顧客のレビューを取得できます。\\n5. **店舗の売上データを取得**: 特定の店舗の過去365日間の売上データを取得できます。\\n\\n何か特定の情報が必要でしたら、お知らせください！'"
      ]
     },
     "execution_count": 36,
     "metadata": {},
     "output_type": "execute_result"
    }
   ],
   "source": [
    "result"
   ]
  },
  {
   "cell_type": "code",
   "execution_count": 11,
   "id": "7d4c7bdb-65ae-486e-965f-65c8280744c3",
   "metadata": {},
   "outputs": [
    {
     "data": {
      "text/plain": [
       "[{'store_id': 1, 'comment': '二度と行きたくない', 'review_name': 'user_1'},\n",
       " {'store_id': 1, 'comment': '接客態度が悪かった', 'review_name': 'user_2'},\n",
       " {'store_id': 1, 'comment': '愛想がなかった', 'review_name': 'user_3'},\n",
       " {'store_id': 1, 'comment': '接客態度が悪かった', 'review_name': 'user_4'},\n",
       " {'store_id': 1, 'comment': '接客態度が悪かった', 'review_name': 'user_5'},\n",
       " {'store_id': 1, 'comment': '二度と行きたくない', 'review_name': 'user_6'},\n",
       " {'store_id': 1, 'comment': '待ち時間が長すぎる', 'review_name': 'user_7'},\n",
       " {'store_id': 1, 'comment': '二度と行きたくない', 'review_name': 'user_8'},\n",
       " {'store_id': 1, 'comment': '愛想がなかった', 'review_name': 'user_9'},\n",
       " {'store_id': 1, 'comment': '店内がうるさい', 'review_name': 'user_10'}]"
      ]
     },
     "execution_count": 11,
     "metadata": {},
     "output_type": "execute_result"
    }
   ],
   "source": [
    "get_store_reviews(store_id=1)[:10]"
   ]
  },
  {
   "cell_type": "code",
   "execution_count": 12,
   "id": "270062ce-3442-40c9-b052-f089bae85779",
   "metadata": {},
   "outputs": [
    {
     "data": {
      "text/plain": [
       "[{'store_id': 2, 'comment': 'コスパが良かった', 'review_name': 'user_1'},\n",
       " {'store_id': 2, 'comment': '家族で楽しめた', 'review_name': 'user_2'},\n",
       " {'store_id': 2, 'comment': 'シェフの腕が素晴らしい', 'review_name': 'user_3'},\n",
       " {'store_id': 2, 'comment': '家族で楽しめた', 'review_name': 'user_4'},\n",
       " {'store_id': 2, 'comment': '食材が新鮮だった', 'review_name': 'user_5'},\n",
       " {'store_id': 2, 'comment': '量もちょうど良い', 'review_name': 'user_6'},\n",
       " {'store_id': 2, 'comment': 'デザートまで完璧だった', 'review_name': 'user_7'},\n",
       " {'store_id': 2, 'comment': 'シェフの腕が素晴らしい', 'review_name': 'user_8'},\n",
       " {'store_id': 2, 'comment': '量もちょうど良い', 'review_name': 'user_9'},\n",
       " {'store_id': 2, 'comment': 'コスパが良かった', 'review_name': 'user_10'}]"
      ]
     },
     "execution_count": 12,
     "metadata": {},
     "output_type": "execute_result"
    }
   ],
   "source": [
    "get_store_reviews(store_id=2)[:10]"
   ]
  },
  {
   "cell_type": "code",
   "execution_count": 15,
   "id": "da175b69-eb17-4705-9370-0fa6e7345673",
   "metadata": {},
   "outputs": [
    {
     "name": "stdout",
     "output_type": "stream",
     "text": [
      "365\n",
      "[{'store_id': 3, 'date': '2024-01-30', 'sales': 2000}, {'store_id': 3, 'date': '2024-01-31', 'sales': 2000}, {'store_id': 3, 'date': '2024-02-01', 'sales': 2000}, {'store_id': 3, 'date': '2024-02-02', 'sales': 2000}, {'store_id': 3, 'date': '2024-02-03', 'sales': 2000}, {'store_id': 3, 'date': '2024-02-04', 'sales': 2000}, {'store_id': 3, 'date': '2024-02-05', 'sales': 2000}, {'store_id': 3, 'date': '2024-02-06', 'sales': 2000}, {'store_id': 3, 'date': '2024-02-07', 'sales': 2000}, {'store_id': 3, 'date': '2024-02-08', 'sales': 2000}]\n"
     ]
    }
   ],
   "source": [
    "result = get_store_sales(store_id=3)\n",
    "print(len(result))\n",
    "print(result[:10])"
   ]
  }
 ],
 "metadata": {
  "kernelspec": {
   "display_name": "Python 3 (ipykernel)",
   "language": "python",
   "name": "python3"
  },
  "language_info": {
   "codemirror_mode": {
    "name": "ipython",
    "version": 3
   },
   "file_extension": ".py",
   "mimetype": "text/x-python",
   "name": "python",
   "nbconvert_exporter": "python",
   "pygments_lexer": "ipython3",
   "version": "3.11.11"
  }
 },
 "nbformat": 4,
 "nbformat_minor": 5
}
